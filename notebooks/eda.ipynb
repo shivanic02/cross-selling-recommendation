{
 "cells": [
  {
   "cell_type": "markdown",
   "id": "bab18a9d",
   "metadata": {},
   "source": [
    "# Data Cleaning and Analysis"
   ]
  },
  {
   "cell_type": "code",
   "execution_count": 2,
   "id": "2574d31c",
   "metadata": {},
   "outputs": [],
   "source": [
    "import pandas as pd "
   ]
  },
  {
   "cell_type": "code",
   "execution_count": 3,
   "id": "02128b0b",
   "metadata": {},
   "outputs": [
    {
     "data": {
      "text/html": [
       "<div>\n",
       "<style scoped>\n",
       "    .dataframe tbody tr th:only-of-type {\n",
       "        vertical-align: middle;\n",
       "    }\n",
       "\n",
       "    .dataframe tbody tr th {\n",
       "        vertical-align: top;\n",
       "    }\n",
       "\n",
       "    .dataframe thead th {\n",
       "        text-align: right;\n",
       "    }\n",
       "</style>\n",
       "<table border=\"1\" class=\"dataframe\">\n",
       "  <thead>\n",
       "    <tr style=\"text-align: right;\">\n",
       "      <th></th>\n",
       "      <th>order_id</th>\n",
       "      <th>user_id</th>\n",
       "      <th>eval_set</th>\n",
       "      <th>order_number</th>\n",
       "      <th>order_dow</th>\n",
       "      <th>order_hour_of_day</th>\n",
       "      <th>days_since_prior_order</th>\n",
       "    </tr>\n",
       "  </thead>\n",
       "  <tbody>\n",
       "    <tr>\n",
       "      <th>0</th>\n",
       "      <td>2539329</td>\n",
       "      <td>1</td>\n",
       "      <td>prior</td>\n",
       "      <td>1</td>\n",
       "      <td>2</td>\n",
       "      <td>8</td>\n",
       "      <td>NaN</td>\n",
       "    </tr>\n",
       "    <tr>\n",
       "      <th>1</th>\n",
       "      <td>2398795</td>\n",
       "      <td>1</td>\n",
       "      <td>prior</td>\n",
       "      <td>2</td>\n",
       "      <td>3</td>\n",
       "      <td>7</td>\n",
       "      <td>15.0</td>\n",
       "    </tr>\n",
       "    <tr>\n",
       "      <th>2</th>\n",
       "      <td>473747</td>\n",
       "      <td>1</td>\n",
       "      <td>prior</td>\n",
       "      <td>3</td>\n",
       "      <td>3</td>\n",
       "      <td>12</td>\n",
       "      <td>21.0</td>\n",
       "    </tr>\n",
       "    <tr>\n",
       "      <th>3</th>\n",
       "      <td>2254736</td>\n",
       "      <td>1</td>\n",
       "      <td>prior</td>\n",
       "      <td>4</td>\n",
       "      <td>4</td>\n",
       "      <td>7</td>\n",
       "      <td>29.0</td>\n",
       "    </tr>\n",
       "    <tr>\n",
       "      <th>4</th>\n",
       "      <td>431534</td>\n",
       "      <td>1</td>\n",
       "      <td>prior</td>\n",
       "      <td>5</td>\n",
       "      <td>4</td>\n",
       "      <td>15</td>\n",
       "      <td>28.0</td>\n",
       "    </tr>\n",
       "  </tbody>\n",
       "</table>\n",
       "</div>"
      ],
      "text/plain": [
       "   order_id  user_id eval_set  order_number  order_dow  order_hour_of_day  \\\n",
       "0   2539329        1    prior             1          2                  8   \n",
       "1   2398795        1    prior             2          3                  7   \n",
       "2    473747        1    prior             3          3                 12   \n",
       "3   2254736        1    prior             4          4                  7   \n",
       "4    431534        1    prior             5          4                 15   \n",
       "\n",
       "   days_since_prior_order  \n",
       "0                     NaN  \n",
       "1                    15.0  \n",
       "2                    21.0  \n",
       "3                    29.0  \n",
       "4                    28.0  "
      ]
     },
     "execution_count": 3,
     "metadata": {},
     "output_type": "execute_result"
    }
   ],
   "source": [
    "orders = pd.read_csv('../data/orders.csv')\n",
    "order_products = pd.read_csv('../data/order_products__train.csv')\n",
    "products = pd.read_csv('../data/products.csv')\n",
    "\n",
    "orders.head()"
   ]
  },
  {
   "cell_type": "code",
   "execution_count": 4,
   "id": "e21992fd",
   "metadata": {},
   "outputs": [
    {
     "data": {
      "text/plain": [
       "order_id                       0\n",
       "user_id                        0\n",
       "eval_set                       0\n",
       "order_number                   0\n",
       "order_dow                      0\n",
       "order_hour_of_day              0\n",
       "days_since_prior_order    206209\n",
       "dtype: int64"
      ]
     },
     "execution_count": 4,
     "metadata": {},
     "output_type": "execute_result"
    }
   ],
   "source": [
    "orders.isnull().sum()"
   ]
  },
  {
   "cell_type": "code",
   "execution_count": 5,
   "id": "253c9ef2",
   "metadata": {},
   "outputs": [
    {
     "data": {
      "text/plain": [
       "order_id             0\n",
       "product_id           0\n",
       "add_to_cart_order    0\n",
       "reordered            0\n",
       "dtype: int64"
      ]
     },
     "execution_count": 5,
     "metadata": {},
     "output_type": "execute_result"
    }
   ],
   "source": [
    "order_products.isnull().sum()"
   ]
  },
  {
   "cell_type": "code",
   "execution_count": 6,
   "id": "eb28fa67",
   "metadata": {},
   "outputs": [
    {
     "data": {
      "text/plain": [
       "product_id       0\n",
       "product_name     0\n",
       "aisle_id         0\n",
       "department_id    0\n",
       "dtype: int64"
      ]
     },
     "execution_count": 6,
     "metadata": {},
     "output_type": "execute_result"
    }
   ],
   "source": [
    "products.isnull().sum()"
   ]
  },
  {
   "cell_type": "code",
   "execution_count": 7,
   "id": "3e3a6d11",
   "metadata": {},
   "outputs": [
    {
     "data": {
      "text/plain": [
       "np.int64(0)"
      ]
     },
     "execution_count": 7,
     "metadata": {},
     "output_type": "execute_result"
    }
   ],
   "source": [
    "orders.duplicated().sum()"
   ]
  },
  {
   "cell_type": "code",
   "execution_count": 8,
   "id": "9594717c",
   "metadata": {},
   "outputs": [
    {
     "data": {
      "text/plain": [
       "np.int64(0)"
      ]
     },
     "execution_count": 8,
     "metadata": {},
     "output_type": "execute_result"
    }
   ],
   "source": [
    "order_products.duplicated().sum()"
   ]
  },
  {
   "cell_type": "code",
   "execution_count": 9,
   "id": "174ce560",
   "metadata": {},
   "outputs": [
    {
     "data": {
      "text/plain": [
       "np.int64(0)"
      ]
     },
     "execution_count": 9,
     "metadata": {},
     "output_type": "execute_result"
    }
   ],
   "source": [
    "products.duplicated().sum()"
   ]
  },
  {
   "cell_type": "code",
   "execution_count": 10,
   "id": "278b97da",
   "metadata": {},
   "outputs": [
    {
     "data": {
      "text/plain": [
       "3421083"
      ]
     },
     "execution_count": 10,
     "metadata": {},
     "output_type": "execute_result"
    }
   ],
   "source": [
    "orders['order_id'].nunique()"
   ]
  },
  {
   "cell_type": "code",
   "execution_count": 11,
   "id": "6037051b",
   "metadata": {},
   "outputs": [
    {
     "data": {
      "text/plain": [
       "product_id\n",
       "24852    18726\n",
       "13176    15480\n",
       "21137    10894\n",
       "21903     9784\n",
       "47626     8135\n",
       "47766     7409\n",
       "47209     7293\n",
       "16797     6494\n",
       "26209     6033\n",
       "27966     5546\n",
       "Name: count, dtype: int64"
      ]
     },
     "execution_count": 11,
     "metadata": {},
     "output_type": "execute_result"
    }
   ],
   "source": [
    "order_products['product_id'].value_counts().head(10)"
   ]
  },
  {
   "cell_type": "code",
   "execution_count": 12,
   "id": "f3c9e4c5",
   "metadata": {},
   "outputs": [
    {
     "data": {
      "text/html": [
       "<div>\n",
       "<style scoped>\n",
       "    .dataframe tbody tr th:only-of-type {\n",
       "        vertical-align: middle;\n",
       "    }\n",
       "\n",
       "    .dataframe tbody tr th {\n",
       "        vertical-align: top;\n",
       "    }\n",
       "\n",
       "    .dataframe thead th {\n",
       "        text-align: right;\n",
       "    }\n",
       "</style>\n",
       "<table border=\"1\" class=\"dataframe\">\n",
       "  <thead>\n",
       "    <tr style=\"text-align: right;\">\n",
       "      <th></th>\n",
       "      <th>order_id</th>\n",
       "      <th>product_id</th>\n",
       "      <th>add_to_cart_order</th>\n",
       "      <th>reordered</th>\n",
       "      <th>product_name</th>\n",
       "      <th>aisle_id</th>\n",
       "      <th>department_id</th>\n",
       "    </tr>\n",
       "  </thead>\n",
       "  <tbody>\n",
       "    <tr>\n",
       "      <th>0</th>\n",
       "      <td>1</td>\n",
       "      <td>49302</td>\n",
       "      <td>1</td>\n",
       "      <td>1</td>\n",
       "      <td>Bulgarian Yogurt</td>\n",
       "      <td>120</td>\n",
       "      <td>16</td>\n",
       "    </tr>\n",
       "    <tr>\n",
       "      <th>1</th>\n",
       "      <td>1</td>\n",
       "      <td>11109</td>\n",
       "      <td>2</td>\n",
       "      <td>1</td>\n",
       "      <td>Organic 4% Milk Fat Whole Milk Cottage Cheese</td>\n",
       "      <td>108</td>\n",
       "      <td>16</td>\n",
       "    </tr>\n",
       "    <tr>\n",
       "      <th>2</th>\n",
       "      <td>1</td>\n",
       "      <td>10246</td>\n",
       "      <td>3</td>\n",
       "      <td>0</td>\n",
       "      <td>Organic Celery Hearts</td>\n",
       "      <td>83</td>\n",
       "      <td>4</td>\n",
       "    </tr>\n",
       "    <tr>\n",
       "      <th>3</th>\n",
       "      <td>1</td>\n",
       "      <td>49683</td>\n",
       "      <td>4</td>\n",
       "      <td>0</td>\n",
       "      <td>Cucumber Kirby</td>\n",
       "      <td>83</td>\n",
       "      <td>4</td>\n",
       "    </tr>\n",
       "    <tr>\n",
       "      <th>4</th>\n",
       "      <td>1</td>\n",
       "      <td>43633</td>\n",
       "      <td>5</td>\n",
       "      <td>1</td>\n",
       "      <td>Lightly Smoked Sardines in Olive Oil</td>\n",
       "      <td>95</td>\n",
       "      <td>15</td>\n",
       "    </tr>\n",
       "  </tbody>\n",
       "</table>\n",
       "</div>"
      ],
      "text/plain": [
       "   order_id  product_id  add_to_cart_order  reordered  \\\n",
       "0         1       49302                  1          1   \n",
       "1         1       11109                  2          1   \n",
       "2         1       10246                  3          0   \n",
       "3         1       49683                  4          0   \n",
       "4         1       43633                  5          1   \n",
       "\n",
       "                                    product_name  aisle_id  department_id  \n",
       "0                               Bulgarian Yogurt       120             16  \n",
       "1  Organic 4% Milk Fat Whole Milk Cottage Cheese       108             16  \n",
       "2                          Organic Celery Hearts        83              4  \n",
       "3                                 Cucumber Kirby        83              4  \n",
       "4           Lightly Smoked Sardines in Olive Oil        95             15  "
      ]
     },
     "execution_count": 12,
     "metadata": {},
     "output_type": "execute_result"
    }
   ],
   "source": [
    "order_products = order_products.merge(products, on='product_id', how='left')\n",
    "order_products.head()"
   ]
  },
  {
   "cell_type": "code",
   "execution_count": 13,
   "id": "d0c91f9b",
   "metadata": {},
   "outputs": [],
   "source": [
    "order_products.to_csv('../data/order_products_merged.csv', index=False)"
   ]
  },
  {
   "cell_type": "code",
   "execution_count": 14,
   "id": "e6da5233",
   "metadata": {},
   "outputs": [],
   "source": [
    "# Count top products\n",
    "top_products = (\n",
    "    order_products['product_name']\n",
    "    .value_counts()\n",
    "    .head(50)  # take top 50 most common products\n",
    "    .index\n",
    ")\n",
    "\n",
    "# Filter dataset\n",
    "filtered_orders = order_products[order_products['product_name'].isin(top_products)]\n"
   ]
  },
  {
   "cell_type": "code",
   "execution_count": 15,
   "id": "5f047633",
   "metadata": {},
   "outputs": [],
   "source": [
    "top_order_ids = filtered_orders['order_id'].unique()[:10000]  # adjust number if needed\n",
    "filtered_orders = filtered_orders[filtered_orders['order_id'].isin(top_order_ids)]"
   ]
  },
  {
   "cell_type": "code",
   "execution_count": 16,
   "id": "ca6c58ec",
   "metadata": {},
   "outputs": [
    {
     "data": {
      "text/plain": [
       "[['Cucumber Kirby', 'Bag of Organic Bananas', 'Organic Hass Avocado'],\n",
       " ['Organic Half & Half', 'Organic Garnet Sweet Potato (Yam)', 'Asparagus'],\n",
       " ['Organic Baby Arugula'],\n",
       " ['Organic Cucumber',\n",
       "  'Organic Grape Tomatoes',\n",
       "  'Organic Raspberries',\n",
       "  'Organic Blueberries'],\n",
       " ['Bag of Organic Bananas',\n",
       "  'Organic Raspberries',\n",
       "  'Organic Garlic',\n",
       "  'Organic Italian Parsley Bunch',\n",
       "  'Organic Yellow Onion',\n",
       "  'Organic Zucchini']]"
      ]
     },
     "execution_count": 16,
     "metadata": {},
     "output_type": "execute_result"
    }
   ],
   "source": [
    "transactions = (\n",
    "    filtered_orders\n",
    "    .groupby('order_id')['product_name']\n",
    "    .apply(list)\n",
    "    .values\n",
    "    .tolist()\n",
    ")\n",
    "\n",
    "# Check\n",
    "transactions[:5]\n"
   ]
  },
  {
   "cell_type": "code",
   "execution_count": 17,
   "id": "c46bc89f",
   "metadata": {},
   "outputs": [],
   "source": [
    "from mlxtend.preprocessing import TransactionEncoder\n",
    "\n",
    "te = TransactionEncoder()\n",
    "te_ary = te.fit(transactions).transform(transactions)\n",
    "basket = pd.DataFrame(te_ary, columns=te.columns_)\n"
   ]
  },
  {
   "cell_type": "markdown",
   "id": "dc235584",
   "metadata": {},
   "source": [
    "# Association Rule Mining"
   ]
  },
  {
   "cell_type": "code",
   "execution_count": null,
   "id": "76e6f104",
   "metadata": {},
   "outputs": [],
   "source": [
    "from mlxtend.frequent_patterns import apriori, association_rules"
   ]
  },
  {
   "cell_type": "code",
   "execution_count": 19,
   "id": "57d9f293",
   "metadata": {},
   "outputs": [
    {
     "data": {
      "text/html": [
       "<div>\n",
       "<style scoped>\n",
       "    .dataframe tbody tr th:only-of-type {\n",
       "        vertical-align: middle;\n",
       "    }\n",
       "\n",
       "    .dataframe tbody tr th {\n",
       "        vertical-align: top;\n",
       "    }\n",
       "\n",
       "    .dataframe thead th {\n",
       "        text-align: right;\n",
       "    }\n",
       "</style>\n",
       "<table border=\"1\" class=\"dataframe\">\n",
       "  <thead>\n",
       "    <tr style=\"text-align: right;\">\n",
       "      <th></th>\n",
       "      <th>support</th>\n",
       "      <th>itemsets</th>\n",
       "    </tr>\n",
       "  </thead>\n",
       "  <tbody>\n",
       "    <tr>\n",
       "      <th>2</th>\n",
       "      <td>0.2236</td>\n",
       "      <td>(Banana)</td>\n",
       "    </tr>\n",
       "    <tr>\n",
       "      <th>1</th>\n",
       "      <td>0.1896</td>\n",
       "      <td>(Bag of Organic Bananas)</td>\n",
       "    </tr>\n",
       "    <tr>\n",
       "      <th>37</th>\n",
       "      <td>0.1338</td>\n",
       "      <td>(Organic Strawberries)</td>\n",
       "    </tr>\n",
       "    <tr>\n",
       "      <th>16</th>\n",
       "      <td>0.1181</td>\n",
       "      <td>(Organic Baby Spinach)</td>\n",
       "    </tr>\n",
       "    <tr>\n",
       "      <th>10</th>\n",
       "      <td>0.0987</td>\n",
       "      <td>(Large Lemon)</td>\n",
       "    </tr>\n",
       "  </tbody>\n",
       "</table>\n",
       "</div>"
      ],
      "text/plain": [
       "    support                  itemsets\n",
       "2    0.2236                  (Banana)\n",
       "1    0.1896  (Bag of Organic Bananas)\n",
       "37   0.1338    (Organic Strawberries)\n",
       "16   0.1181    (Organic Baby Spinach)\n",
       "10   0.0987             (Large Lemon)"
      ]
     },
     "execution_count": 19,
     "metadata": {},
     "output_type": "execute_result"
    }
   ],
   "source": [
    "# Set a minimum support (e.g., 0.01 means 1% of transactions)\n",
    "frequent_itemsets = apriori(basket, min_support=0.01, use_colnames=True)\n",
    "\n",
    "# Sort to check\n",
    "frequent_itemsets.sort_values(by='support', ascending=False).head()"
   ]
  },
  {
   "cell_type": "code",
   "execution_count": null,
   "id": "a21a89cb",
   "metadata": {},
   "outputs": [
    {
     "data": {
      "text/html": [
       "<div>\n",
       "<style scoped>\n",
       "    .dataframe tbody tr th:only-of-type {\n",
       "        vertical-align: middle;\n",
       "    }\n",
       "\n",
       "    .dataframe tbody tr th {\n",
       "        vertical-align: top;\n",
       "    }\n",
       "\n",
       "    .dataframe thead th {\n",
       "        text-align: right;\n",
       "    }\n",
       "</style>\n",
       "<table border=\"1\" class=\"dataframe\">\n",
       "  <thead>\n",
       "    <tr style=\"text-align: right;\">\n",
       "      <th></th>\n",
       "      <th>antecedents</th>\n",
       "      <th>consequents</th>\n",
       "      <th>antecedent support</th>\n",
       "      <th>consequent support</th>\n",
       "      <th>support</th>\n",
       "      <th>confidence</th>\n",
       "      <th>lift</th>\n",
       "      <th>representativity</th>\n",
       "      <th>leverage</th>\n",
       "      <th>conviction</th>\n",
       "      <th>zhangs_metric</th>\n",
       "      <th>jaccard</th>\n",
       "      <th>certainty</th>\n",
       "      <th>kulczynski</th>\n",
       "    </tr>\n",
       "  </thead>\n",
       "  <tbody>\n",
       "    <tr>\n",
       "      <th>68</th>\n",
       "      <td>(Limes)</td>\n",
       "      <td>(Organic Cilantro)</td>\n",
       "      <td>0.0711</td>\n",
       "      <td>0.0431</td>\n",
       "      <td>0.0115</td>\n",
       "      <td>0.161744</td>\n",
       "      <td>3.752762</td>\n",
       "      <td>1.0</td>\n",
       "      <td>0.008436</td>\n",
       "      <td>1.141537</td>\n",
       "      <td>0.789675</td>\n",
       "      <td>0.111977</td>\n",
       "      <td>0.123988</td>\n",
       "      <td>0.214283</td>\n",
       "    </tr>\n",
       "    <tr>\n",
       "      <th>69</th>\n",
       "      <td>(Organic Cilantro)</td>\n",
       "      <td>(Limes)</td>\n",
       "      <td>0.0431</td>\n",
       "      <td>0.0711</td>\n",
       "      <td>0.0115</td>\n",
       "      <td>0.266821</td>\n",
       "      <td>3.752762</td>\n",
       "      <td>1.0</td>\n",
       "      <td>0.008436</td>\n",
       "      <td>1.266949</td>\n",
       "      <td>0.766569</td>\n",
       "      <td>0.111977</td>\n",
       "      <td>0.210702</td>\n",
       "      <td>0.214283</td>\n",
       "    </tr>\n",
       "    <tr>\n",
       "      <th>57</th>\n",
       "      <td>(Large Lemon)</td>\n",
       "      <td>(Limes)</td>\n",
       "      <td>0.0987</td>\n",
       "      <td>0.0711</td>\n",
       "      <td>0.0191</td>\n",
       "      <td>0.193516</td>\n",
       "      <td>2.721740</td>\n",
       "      <td>1.0</td>\n",
       "      <td>0.012082</td>\n",
       "      <td>1.151789</td>\n",
       "      <td>0.701862</td>\n",
       "      <td>0.126742</td>\n",
       "      <td>0.131786</td>\n",
       "      <td>0.231076</td>\n",
       "    </tr>\n",
       "    <tr>\n",
       "      <th>56</th>\n",
       "      <td>(Limes)</td>\n",
       "      <td>(Large Lemon)</td>\n",
       "      <td>0.0711</td>\n",
       "      <td>0.0987</td>\n",
       "      <td>0.0191</td>\n",
       "      <td>0.268636</td>\n",
       "      <td>2.721740</td>\n",
       "      <td>1.0</td>\n",
       "      <td>0.012082</td>\n",
       "      <td>1.232354</td>\n",
       "      <td>0.681008</td>\n",
       "      <td>0.126742</td>\n",
       "      <td>0.188545</td>\n",
       "      <td>0.231076</td>\n",
       "    </tr>\n",
       "    <tr>\n",
       "      <th>62</th>\n",
       "      <td>(Large Lemon)</td>\n",
       "      <td>(Organic Red Onion)</td>\n",
       "      <td>0.0987</td>\n",
       "      <td>0.0498</td>\n",
       "      <td>0.0106</td>\n",
       "      <td>0.107396</td>\n",
       "      <td>2.156549</td>\n",
       "      <td>1.0</td>\n",
       "      <td>0.005685</td>\n",
       "      <td>1.064526</td>\n",
       "      <td>0.595025</td>\n",
       "      <td>0.076867</td>\n",
       "      <td>0.060615</td>\n",
       "      <td>0.160124</td>\n",
       "    </tr>\n",
       "  </tbody>\n",
       "</table>\n",
       "</div>"
      ],
      "text/plain": [
       "           antecedents          consequents  antecedent support  \\\n",
       "68             (Limes)   (Organic Cilantro)              0.0711   \n",
       "69  (Organic Cilantro)              (Limes)              0.0431   \n",
       "57       (Large Lemon)              (Limes)              0.0987   \n",
       "56             (Limes)        (Large Lemon)              0.0711   \n",
       "62       (Large Lemon)  (Organic Red Onion)              0.0987   \n",
       "\n",
       "    consequent support  support  confidence      lift  representativity  \\\n",
       "68              0.0431   0.0115    0.161744  3.752762               1.0   \n",
       "69              0.0711   0.0115    0.266821  3.752762               1.0   \n",
       "57              0.0711   0.0191    0.193516  2.721740               1.0   \n",
       "56              0.0987   0.0191    0.268636  2.721740               1.0   \n",
       "62              0.0498   0.0106    0.107396  2.156549               1.0   \n",
       "\n",
       "    leverage  conviction  zhangs_metric   jaccard  certainty  kulczynski  \n",
       "68  0.008436    1.141537       0.789675  0.111977   0.123988    0.214283  \n",
       "69  0.008436    1.266949       0.766569  0.111977   0.210702    0.214283  \n",
       "57  0.012082    1.151789       0.701862  0.126742   0.131786    0.231076  \n",
       "56  0.012082    1.232354       0.681008  0.126742   0.188545    0.231076  \n",
       "62  0.005685    1.064526       0.595025  0.076867   0.060615    0.160124  "
      ]
     },
     "execution_count": 20,
     "metadata": {},
     "output_type": "execute_result"
    }
   ],
   "source": [
    "rules = association_rules(frequent_itemsets, metric=\"lift\", min_threshold=1)\n",
    "\n",
    "# Sort by lift to see strongest\n",
    "rules.sort_values(by='lift', ascending=False).head()"
   ]
  },
  {
   "cell_type": "code",
   "execution_count": 21,
   "id": "eda2525f",
   "metadata": {},
   "outputs": [
    {
     "data": {
      "text/html": [
       "<div>\n",
       "<style scoped>\n",
       "    .dataframe tbody tr th:only-of-type {\n",
       "        vertical-align: middle;\n",
       "    }\n",
       "\n",
       "    .dataframe tbody tr th {\n",
       "        vertical-align: top;\n",
       "    }\n",
       "\n",
       "    .dataframe thead th {\n",
       "        text-align: right;\n",
       "    }\n",
       "</style>\n",
       "<table border=\"1\" class=\"dataframe\">\n",
       "  <thead>\n",
       "    <tr style=\"text-align: right;\">\n",
       "      <th></th>\n",
       "      <th>antecedents</th>\n",
       "      <th>consequents</th>\n",
       "      <th>support</th>\n",
       "      <th>confidence</th>\n",
       "      <th>lift</th>\n",
       "    </tr>\n",
       "  </thead>\n",
       "  <tbody>\n",
       "    <tr>\n",
       "      <th>0</th>\n",
       "      <td>(Bag of Organic Bananas)</td>\n",
       "      <td>(Organic Baby Carrots)</td>\n",
       "      <td>0.0101</td>\n",
       "      <td>0.053270</td>\n",
       "      <td>1.194396</td>\n",
       "    </tr>\n",
       "    <tr>\n",
       "      <th>1</th>\n",
       "      <td>(Organic Baby Carrots)</td>\n",
       "      <td>(Bag of Organic Bananas)</td>\n",
       "      <td>0.0101</td>\n",
       "      <td>0.226457</td>\n",
       "      <td>1.194396</td>\n",
       "    </tr>\n",
       "    <tr>\n",
       "      <th>2</th>\n",
       "      <td>(Bag of Organic Bananas)</td>\n",
       "      <td>(Organic Baby Spinach)</td>\n",
       "      <td>0.0277</td>\n",
       "      <td>0.146097</td>\n",
       "      <td>1.237062</td>\n",
       "    </tr>\n",
       "    <tr>\n",
       "      <th>3</th>\n",
       "      <td>(Organic Baby Spinach)</td>\n",
       "      <td>(Bag of Organic Bananas)</td>\n",
       "      <td>0.0277</td>\n",
       "      <td>0.234547</td>\n",
       "      <td>1.237062</td>\n",
       "    </tr>\n",
       "    <tr>\n",
       "      <th>4</th>\n",
       "      <td>(Bag of Organic Bananas)</td>\n",
       "      <td>(Organic Blueberries)</td>\n",
       "      <td>0.0144</td>\n",
       "      <td>0.075949</td>\n",
       "      <td>1.353821</td>\n",
       "    </tr>\n",
       "  </tbody>\n",
       "</table>\n",
       "</div>"
      ],
      "text/plain": [
       "                antecedents               consequents  support  confidence  \\\n",
       "0  (Bag of Organic Bananas)    (Organic Baby Carrots)   0.0101    0.053270   \n",
       "1    (Organic Baby Carrots)  (Bag of Organic Bananas)   0.0101    0.226457   \n",
       "2  (Bag of Organic Bananas)    (Organic Baby Spinach)   0.0277    0.146097   \n",
       "3    (Organic Baby Spinach)  (Bag of Organic Bananas)   0.0277    0.234547   \n",
       "4  (Bag of Organic Bananas)     (Organic Blueberries)   0.0144    0.075949   \n",
       "\n",
       "       lift  \n",
       "0  1.194396  \n",
       "1  1.194396  \n",
       "2  1.237062  \n",
       "3  1.237062  \n",
       "4  1.353821  "
      ]
     },
     "execution_count": 21,
     "metadata": {},
     "output_type": "execute_result"
    }
   ],
   "source": [
    "rules[['antecedents', 'consequents', 'support', 'confidence', 'lift']].head()"
   ]
  },
  {
   "cell_type": "markdown",
   "id": "176ac76f",
   "metadata": {},
   "source": [
    "# Visualizing the results"
   ]
  },
  {
   "cell_type": "markdown",
   "id": "d94d9eee",
   "metadata": {},
   "source": [
    "## Scatter Plot: support vs confidence"
   ]
  },
  {
   "cell_type": "code",
   "execution_count": 22,
   "id": "08d6e2d0",
   "metadata": {},
   "outputs": [
    {
     "data": {
      "image/png": "[encoded data removed]",
      "text/plain": [
       "<Figure size 800x600 with 1 Axes>"
      ]
     },
     "metadata": {},
     "output_type": "display_data"
    }
   ],
   "source": [
    "import matplotlib.pyplot as plt\n",
    "\n",
    "plt.figure(figsize=(8,6))\n",
    "plt.scatter(rules['support'], rules['confidence'], alpha=0.7)\n",
    "plt.xlabel('Support')\n",
    "plt.ylabel('Confidence')\n",
    "plt.title('Support vs Confidence')\n",
    "plt.show()"
   ]
  },
  {
   "cell_type": "markdown",
   "id": "b31cc8d6",
   "metadata": {},
   "source": [
    "## Lift distribution plot"
   ]
  },
  {
   "cell_type": "code",
   "execution_count": 23,
   "id": "bca3084e",
   "metadata": {},
   "outputs": [
    {
     "data": {
      "image/png": "[encoded data removed]",
      "text/plain": [
       "<Figure size 800x600 with 1 Axes>"
      ]
     },
     "metadata": {},
     "output_type": "display_data"
    }
   ],
   "source": [
    "plt.figure(figsize=(8,6))\n",
    "plt.hist(rules['lift'], bins=30, edgecolor='k')\n",
    "plt.xlabel('Lift')\n",
    "plt.ylabel('Frequency')\n",
    "plt.title('Distribution of Lift')\n",
    "plt.show()"
   ]
  },
  {
   "cell_type": "markdown",
   "id": "44baeedf",
   "metadata": {},
   "source": [
    "## Creating readable rule labels"
   ]
  },
  {
   "cell_type": "code",
   "execution_count": null,
   "id": "bf21c9a0",
   "metadata": {},
   "outputs": [],
   "source": [
    "rules['antecedents_str'] = rules['antecedents'].apply(lambda x: ', '.join(list(x)))\n",
    "rules['consequents_str'] = rules['consequents'].apply(lambda x: ', '.join(list(x)))"
   ]
  },
  {
   "cell_type": "markdown",
   "id": "69711636",
   "metadata": {},
   "source": [
    "## Top-cross sell opportunities"
   ]
  },
  {
   "cell_type": "code",
   "execution_count": 25,
   "id": "e6e19ef1",
   "metadata": {},
   "outputs": [
    {
     "data": {
      "text/html": [
       "<div>\n",
       "<style scoped>\n",
       "    .dataframe tbody tr th:only-of-type {\n",
       "        vertical-align: middle;\n",
       "    }\n",
       "\n",
       "    .dataframe tbody tr th {\n",
       "        vertical-align: top;\n",
       "    }\n",
       "\n",
       "    .dataframe thead th {\n",
       "        text-align: right;\n",
       "    }\n",
       "</style>\n",
       "<table border=\"1\" class=\"dataframe\">\n",
       "  <thead>\n",
       "    <tr style=\"text-align: right;\">\n",
       "      <th></th>\n",
       "      <th>antecedents_str</th>\n",
       "      <th>consequents_str</th>\n",
       "      <th>support</th>\n",
       "      <th>confidence</th>\n",
       "      <th>lift</th>\n",
       "    </tr>\n",
       "  </thead>\n",
       "  <tbody>\n",
       "    <tr>\n",
       "      <th>68</th>\n",
       "      <td>Limes</td>\n",
       "      <td>Organic Cilantro</td>\n",
       "      <td>0.0115</td>\n",
       "      <td>0.161744</td>\n",
       "      <td>3.752762</td>\n",
       "    </tr>\n",
       "    <tr>\n",
       "      <th>69</th>\n",
       "      <td>Organic Cilantro</td>\n",
       "      <td>Limes</td>\n",
       "      <td>0.0115</td>\n",
       "      <td>0.266821</td>\n",
       "      <td>3.752762</td>\n",
       "    </tr>\n",
       "    <tr>\n",
       "      <th>57</th>\n",
       "      <td>Large Lemon</td>\n",
       "      <td>Limes</td>\n",
       "      <td>0.0191</td>\n",
       "      <td>0.193516</td>\n",
       "      <td>2.721740</td>\n",
       "    </tr>\n",
       "    <tr>\n",
       "      <th>56</th>\n",
       "      <td>Limes</td>\n",
       "      <td>Large Lemon</td>\n",
       "      <td>0.0191</td>\n",
       "      <td>0.268636</td>\n",
       "      <td>2.721740</td>\n",
       "    </tr>\n",
       "    <tr>\n",
       "      <th>62</th>\n",
       "      <td>Large Lemon</td>\n",
       "      <td>Organic Red Onion</td>\n",
       "      <td>0.0106</td>\n",
       "      <td>0.107396</td>\n",
       "      <td>2.156549</td>\n",
       "    </tr>\n",
       "    <tr>\n",
       "      <th>63</th>\n",
       "      <td>Organic Red Onion</td>\n",
       "      <td>Large Lemon</td>\n",
       "      <td>0.0106</td>\n",
       "      <td>0.212851</td>\n",
       "      <td>2.156549</td>\n",
       "    </tr>\n",
       "    <tr>\n",
       "      <th>93</th>\n",
       "      <td>Organic Strawberries</td>\n",
       "      <td>Organic Raspberries</td>\n",
       "      <td>0.0180</td>\n",
       "      <td>0.134529</td>\n",
       "      <td>2.066500</td>\n",
       "    </tr>\n",
       "    <tr>\n",
       "      <th>92</th>\n",
       "      <td>Organic Raspberries</td>\n",
       "      <td>Organic Strawberries</td>\n",
       "      <td>0.0180</td>\n",
       "      <td>0.276498</td>\n",
       "      <td>2.066500</td>\n",
       "    </tr>\n",
       "    <tr>\n",
       "      <th>64</th>\n",
       "      <td>Limes</td>\n",
       "      <td>Organic Avocado</td>\n",
       "      <td>0.0135</td>\n",
       "      <td>0.189873</td>\n",
       "      <td>2.048257</td>\n",
       "    </tr>\n",
       "    <tr>\n",
       "      <th>65</th>\n",
       "      <td>Organic Avocado</td>\n",
       "      <td>Limes</td>\n",
       "      <td>0.0135</td>\n",
       "      <td>0.145631</td>\n",
       "      <td>2.048257</td>\n",
       "    </tr>\n",
       "  </tbody>\n",
       "</table>\n",
       "</div>"
      ],
      "text/plain": [
       "         antecedents_str       consequents_str  support  confidence      lift\n",
       "68                 Limes      Organic Cilantro   0.0115    0.161744  3.752762\n",
       "69      Organic Cilantro                 Limes   0.0115    0.266821  3.752762\n",
       "57           Large Lemon                 Limes   0.0191    0.193516  2.721740\n",
       "56                 Limes           Large Lemon   0.0191    0.268636  2.721740\n",
       "62           Large Lemon     Organic Red Onion   0.0106    0.107396  2.156549\n",
       "63     Organic Red Onion           Large Lemon   0.0106    0.212851  2.156549\n",
       "93  Organic Strawberries   Organic Raspberries   0.0180    0.134529  2.066500\n",
       "92   Organic Raspberries  Organic Strawberries   0.0180    0.276498  2.066500\n",
       "64                 Limes       Organic Avocado   0.0135    0.189873  2.048257\n",
       "65       Organic Avocado                 Limes   0.0135    0.145631  2.048257"
      ]
     },
     "execution_count": 25,
     "metadata": {},
     "output_type": "execute_result"
    }
   ],
   "source": [
    "rules[['antecedents_str', 'consequents_str', 'support', 'confidence', 'lift']]\\\n",
    "    .sort_values(by='lift', ascending=False).head(10)"
   ]
  }
 ],
 "metadata": {
  "kernelspec": {
   "display_name": "Python 3",
   "language": "python",
   "name": "python3"
  },
  "language_info": {
   "codemirror_mode": {
    "name": "ipython",
    "version": 3
   },
   "file_extension": ".py",
   "mimetype": "text/x-python",
   "name": "python",
   "nbconvert_exporter": "python",
   "pygments_lexer": "ipython3",
   "version": "3.12.1"
  }
 },
 "nbformat": 4,
 "nbformat_minor": 5
}
